{
 "cells": [
  {
   "cell_type": "code",
   "execution_count": 1,
   "metadata": {},
   "outputs": [],
   "source": [
    "import cv2\n",
    "import matplotlib.pyplot as plt\n",
    "import utile_preprocessing as up\n",
    "import os\n",
    "import utile_labels as ul\n",
    "import random"
   ]
  },
  {
   "cell_type": "code",
   "execution_count": 2,
   "metadata": {},
   "outputs": [
    {
     "name": "stdout",
     "output_type": "stream",
     "text": [
      "7906\n"
     ]
    }
   ],
   "source": [
    "labels = ul.get_labels_tot()\n",
    "print(len(labels))"
   ]
  },
  {
   "cell_type": "code",
   "execution_count": 3,
   "metadata": {},
   "outputs": [
    {
     "name": "stdout",
     "output_type": "stream",
     "text": [
      "img_842.png\n"
     ]
    }
   ],
   "source": [
    "directory_to_read = 'image_dataset/subset_2'\n",
    "direcotry_to_write_image = 'image_dataset_noise'\n",
    "file_labels = 'labels/noisy_labels.txt'\n",
    "rand_array = [3, 5]\n",
    "\n",
    "\n",
    "with open(file_labels, 'a') as f:\n",
    "\n",
    "    for filename in os.listdir(directory_to_read):\n",
    "        \n",
    "        pathFile = f'{directory_to_read}/{filename}'\n",
    "\n",
    "        image = cv2.imread(pathFile)\n",
    "\n",
    "        filename_gauss = f'{direcotry_to_write_image}/noise_gauss_{filename}'\n",
    "        gaussian_blur = up.noisy_gaussianBlurring(image, 5, 5)\n",
    "        cv2.imwrite(filename_gauss, gaussian_blur)\n",
    "\n",
    "\n",
    "        filename_median = f'{direcotry_to_write_image}/noise_median_{filename}'\n",
    "        median_blur = up.noisy_medianBlurring(image, random.choice(rand_array)) # 3 o 5\n",
    "        cv2.imwrite(filename_median, median_blur)\n",
    "\n",
    "\n",
    "        word_to_insert = 'xxx'\n",
    "        for (path, neinte, word) in labels :\n",
    "            if (path.split('/')[1] == filename) :\n",
    "                word_to_insert = word\n",
    "                break\n",
    "\n",
    "\n",
    "        string_gauss = f'(\\'image_dataset/noise_gauss_{filename}\\', None, \\'{word_to_insert}\\'), '\n",
    "        string_median = f'(\\'image_dataset/noise_median_{filename}\\', None, \\'{word_to_insert}\\'), '\n",
    "\n",
    "        f.write(string_gauss)\n",
    "        f.write(string_median)\n",
    "\n",
    "        break\n",
    "    \n",
    "\n",
    "\n",
    "    "
   ]
  },
  {
   "cell_type": "code",
   "execution_count": null,
   "metadata": {},
   "outputs": [],
   "source": []
  }
 ],
 "metadata": {
  "kernelspec": {
   "display_name": "py_AutoQuote",
   "language": "python",
   "name": "python3"
  },
  "language_info": {
   "codemirror_mode": {
    "name": "ipython",
    "version": 3
   },
   "file_extension": ".py",
   "mimetype": "text/x-python",
   "name": "python",
   "nbconvert_exporter": "python",
   "pygments_lexer": "ipython3",
   "version": "3.10.6"
  }
 },
 "nbformat": 4,
 "nbformat_minor": 2
}
